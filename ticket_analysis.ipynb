{
 "cells": [
  {
   "cell_type": "code",
   "execution_count": 71,
   "metadata": {},
   "outputs": [],
   "source": [
    "import pandas as pd\n",
    "import numpy as np\n",
    "import warnings\n",
    "warnings.filterwarnings(\"ignore\")\n",
    "pd.set_option(\"display.max_columns\", None)\n",
    "pd.set_option(\"display.max_rows\", None)\n",
    "import matplotlib.pyplot as plt\n",
    "import seaborn as sns"
   ]
  },
  {
   "cell_type": "code",
   "execution_count": 72,
   "metadata": {},
   "outputs": [],
   "source": [
    "df = pd.read_csv(\"CASE STUDY.csv\", encoding='cp1252')"
   ]
  },
  {
   "cell_type": "code",
   "execution_count": 73,
   "metadata": {},
   "outputs": [
    {
     "data": {
      "text/html": [
       "<div>\n",
       "<style scoped>\n",
       "    .dataframe tbody tr th:only-of-type {\n",
       "        vertical-align: middle;\n",
       "    }\n",
       "\n",
       "    .dataframe tbody tr th {\n",
       "        vertical-align: top;\n",
       "    }\n",
       "\n",
       "    .dataframe thead th {\n",
       "        text-align: right;\n",
       "    }\n",
       "</style>\n",
       "<table border=\"1\" class=\"dataframe\">\n",
       "  <thead>\n",
       "    <tr style=\"text-align: right;\">\n",
       "      <th></th>\n",
       "      <th>Date Submitted</th>\n",
       "      <th>Time Submitted</th>\n",
       "      <th>Last Updated</th>\n",
       "      <th>Reference Number</th>\n",
       "      <th>Status</th>\n",
       "      <th>Unnamed: 5</th>\n",
       "      <th>Reporter</th>\n",
       "      <th>Assigned To</th>\n",
       "      <th>Department</th>\n",
       "      <th>Category</th>\n",
       "      <th>location or School</th>\n",
       "      <th>Contact Person</th>\n",
       "      <th>Call Mode</th>\n",
       "      <th>Caller Type</th>\n",
       "      <th>Issue Priority</th>\n",
       "      <th>Telephone Number</th>\n",
       "      <th>Resolved date</th>\n",
       "      <th>Resolved time</th>\n",
       "      <th>Resolved by</th>\n",
       "      <th>Closed date</th>\n",
       "      <th>Closed time</th>\n",
       "      <th>Closed by</th>\n",
       "    </tr>\n",
       "  </thead>\n",
       "  <tbody>\n",
       "    <tr>\n",
       "      <th>0</th>\n",
       "      <td>2-Jan-18</td>\n",
       "      <td>7:16:20</td>\n",
       "      <td>3-Jan-18</td>\n",
       "      <td>1328758</td>\n",
       "      <td>Closed</td>\n",
       "      <td>NaN</td>\n",
       "      <td>Diana.Njambi</td>\n",
       "      <td>Diana.Njambi</td>\n",
       "      <td>Smartphone</td>\n",
       "      <td>Software - Academy Manager Application Synch E...</td>\n",
       "      <td>Ng’iya-SYA</td>\n",
       "      <td>Caroline Achieng Onyango</td>\n",
       "      <td>NaN</td>\n",
       "      <td>Academy Manager</td>\n",
       "      <td>Priority 2</td>\n",
       "      <td>2.547160e+11</td>\n",
       "      <td>3-Jan-18</td>\n",
       "      <td>9:12:27</td>\n",
       "      <td>Joseph.Achieng</td>\n",
       "      <td>3-Jan-18</td>\n",
       "      <td>9:48:53</td>\n",
       "      <td>Angela.Kabuchoru</td>\n",
       "    </tr>\n",
       "    <tr>\n",
       "      <th>1</th>\n",
       "      <td>2-Jan-18</td>\n",
       "      <td>7:16:29</td>\n",
       "      <td>10-Jan-18</td>\n",
       "      <td>1328759</td>\n",
       "      <td>Closed</td>\n",
       "      <td>NaN</td>\n",
       "      <td>leah.waweru</td>\n",
       "      <td>leah.waweru</td>\n",
       "      <td>Smartphone</td>\n",
       "      <td>Software - Application Uninstalled</td>\n",
       "      <td>Gongoni-KLF</td>\n",
       "      <td>Dennis Rapando</td>\n",
       "      <td>NaN</td>\n",
       "      <td>Academy Manager</td>\n",
       "      <td>Priority 2</td>\n",
       "      <td>2.547190e+11</td>\n",
       "      <td>2-Jan-18</td>\n",
       "      <td>14:36:50</td>\n",
       "      <td>Joseph.Achieng</td>\n",
       "      <td>10-Jan-18</td>\n",
       "      <td>11:52:48</td>\n",
       "      <td>Angela.Kabuchoru</td>\n",
       "    </tr>\n",
       "    <tr>\n",
       "      <th>2</th>\n",
       "      <td>2-Jan-18</td>\n",
       "      <td>7:18:27</td>\n",
       "      <td>3-Jan-18</td>\n",
       "      <td>1328761</td>\n",
       "      <td>Closed</td>\n",
       "      <td>NaN</td>\n",
       "      <td>leah.waweru</td>\n",
       "      <td>leah.waweru</td>\n",
       "      <td>Smartphone</td>\n",
       "      <td>Software - Unable to Log In</td>\n",
       "      <td>Gongoni-KLF</td>\n",
       "      <td>Dennis Rapando</td>\n",
       "      <td>NaN</td>\n",
       "      <td>Academy Manager</td>\n",
       "      <td>Priority 2</td>\n",
       "      <td>2.547190e+11</td>\n",
       "      <td>2-Jan-18</td>\n",
       "      <td>13:52:54</td>\n",
       "      <td>Joseph.Achieng</td>\n",
       "      <td>3-Jan-18</td>\n",
       "      <td>8:13:48</td>\n",
       "      <td>leah.waweru</td>\n",
       "    </tr>\n",
       "    <tr>\n",
       "      <th>3</th>\n",
       "      <td>2-Jan-18</td>\n",
       "      <td>7:18:54</td>\n",
       "      <td>5-Jan-18</td>\n",
       "      <td>1328762</td>\n",
       "      <td>Closed</td>\n",
       "      <td>NaN</td>\n",
       "      <td>Diana.Njambi</td>\n",
       "      <td>Diana.Njambi</td>\n",
       "      <td>Smartphone</td>\n",
       "      <td>Software - Academy Manager Application Synch E...</td>\n",
       "      <td>Kehancha-MIG</td>\n",
       "      <td>John Mwana</td>\n",
       "      <td>NaN</td>\n",
       "      <td>Academy Manager</td>\n",
       "      <td>Priority 2</td>\n",
       "      <td>2.547020e+11</td>\n",
       "      <td>2-Jan-18</td>\n",
       "      <td>13:55:23</td>\n",
       "      <td>Joseph.Achieng</td>\n",
       "      <td>3-Jan-18</td>\n",
       "      <td>9:48:53</td>\n",
       "      <td>Angela.Kabuchoru</td>\n",
       "    </tr>\n",
       "    <tr>\n",
       "      <th>4</th>\n",
       "      <td>2-Jan-18</td>\n",
       "      <td>7:23:53</td>\n",
       "      <td>3-Jan-18</td>\n",
       "      <td>1328764</td>\n",
       "      <td>Closed</td>\n",
       "      <td>NaN</td>\n",
       "      <td>leah.waweru</td>\n",
       "      <td>leah.waweru</td>\n",
       "      <td>Smartphone</td>\n",
       "      <td>Software - Unable to Log In</td>\n",
       "      <td>Panama-USG</td>\n",
       "      <td>Millicent Ambani</td>\n",
       "      <td>NaN</td>\n",
       "      <td>Academy Manager</td>\n",
       "      <td>Priority 2</td>\n",
       "      <td>2.547060e+11</td>\n",
       "      <td>2-Jan-18</td>\n",
       "      <td>13:54:31</td>\n",
       "      <td>Joseph.Achieng</td>\n",
       "      <td>3-Jan-18</td>\n",
       "      <td>9:48:53</td>\n",
       "      <td>Angela.Kabuchoru</td>\n",
       "    </tr>\n",
       "  </tbody>\n",
       "</table>\n",
       "</div>"
      ],
      "text/plain": [
       "  Date Submitted Time Submitted Last Updated  Reference Number  Status  \\\n",
       "0       2-Jan-18        7:16:20     3-Jan-18           1328758  Closed   \n",
       "1       2-Jan-18        7:16:29    10-Jan-18           1328759  Closed   \n",
       "2       2-Jan-18        7:18:27     3-Jan-18           1328761  Closed   \n",
       "3       2-Jan-18        7:18:54     5-Jan-18           1328762  Closed   \n",
       "4       2-Jan-18        7:23:53     3-Jan-18           1328764  Closed   \n",
       "\n",
       "   Unnamed: 5      Reporter   Assigned To  Department  \\\n",
       "0         NaN  Diana.Njambi  Diana.Njambi  Smartphone   \n",
       "1         NaN   leah.waweru   leah.waweru  Smartphone   \n",
       "2         NaN   leah.waweru   leah.waweru  Smartphone   \n",
       "3         NaN  Diana.Njambi  Diana.Njambi  Smartphone   \n",
       "4         NaN   leah.waweru   leah.waweru  Smartphone   \n",
       "\n",
       "                                            Category location or School  \\\n",
       "0  Software - Academy Manager Application Synch E...         Ng’iya-SYA   \n",
       "1                 Software - Application Uninstalled        Gongoni-KLF   \n",
       "2                        Software - Unable to Log In        Gongoni-KLF   \n",
       "3  Software - Academy Manager Application Synch E...       Kehancha-MIG   \n",
       "4                        Software - Unable to Log In         Panama-USG   \n",
       "\n",
       "             Contact Person  Call Mode      Caller Type Issue Priority  \\\n",
       "0  Caroline Achieng Onyango        NaN  Academy Manager     Priority 2   \n",
       "1            Dennis Rapando        NaN  Academy Manager     Priority 2   \n",
       "2            Dennis Rapando        NaN  Academy Manager     Priority 2   \n",
       "3                John Mwana        NaN  Academy Manager     Priority 2   \n",
       "4          Millicent Ambani        NaN  Academy Manager     Priority 2   \n",
       "\n",
       "   Telephone Number Resolved date Resolved time     Resolved by Closed date  \\\n",
       "0      2.547160e+11      3-Jan-18       9:12:27  Joseph.Achieng    3-Jan-18   \n",
       "1      2.547190e+11      2-Jan-18      14:36:50  Joseph.Achieng   10-Jan-18   \n",
       "2      2.547190e+11      2-Jan-18      13:52:54  Joseph.Achieng    3-Jan-18   \n",
       "3      2.547020e+11      2-Jan-18      13:55:23  Joseph.Achieng    3-Jan-18   \n",
       "4      2.547060e+11      2-Jan-18      13:54:31  Joseph.Achieng    3-Jan-18   \n",
       "\n",
       "  Closed time         Closed by  \n",
       "0     9:48:53  Angela.Kabuchoru  \n",
       "1    11:52:48  Angela.Kabuchoru  \n",
       "2     8:13:48       leah.waweru  \n",
       "3     9:48:53  Angela.Kabuchoru  \n",
       "4     9:48:53  Angela.Kabuchoru  "
      ]
     },
     "execution_count": 73,
     "metadata": {},
     "output_type": "execute_result"
    }
   ],
   "source": [
    "df.head()"
   ]
  },
  {
   "cell_type": "code",
   "execution_count": 74,
   "metadata": {
    "scrolled": true
   },
   "outputs": [
    {
     "data": {
      "text/plain": [
       "(13817, 22)"
      ]
     },
     "execution_count": 74,
     "metadata": {},
     "output_type": "execute_result"
    }
   ],
   "source": [
    "df.shape"
   ]
  },
  {
   "cell_type": "code",
   "execution_count": 75,
   "metadata": {
    "scrolled": false
   },
   "outputs": [
    {
     "data": {
      "text/plain": [
       "Date Submitted         object\n",
       "Time Submitted         object\n",
       "Last Updated           object\n",
       "Reference Number        int64\n",
       "Status                 object\n",
       "Unnamed: 5            float64\n",
       "Reporter               object\n",
       "Assigned To            object\n",
       "Department             object\n",
       "Category               object\n",
       "location or School     object\n",
       "Contact Person         object\n",
       "Call Mode             float64\n",
       "Caller Type            object\n",
       "Issue Priority         object\n",
       "Telephone Number      float64\n",
       "Resolved date          object\n",
       "Resolved time          object\n",
       "Resolved by            object\n",
       "Closed date            object\n",
       "Closed time            object\n",
       "Closed by              object\n",
       "dtype: object"
      ]
     },
     "execution_count": 75,
     "metadata": {},
     "output_type": "execute_result"
    }
   ],
   "source": [
    "df.dtypes"
   ]
  },
  {
   "cell_type": "code",
   "execution_count": 76,
   "metadata": {},
   "outputs": [
    {
     "data": {
      "text/plain": [
       "Date Submitted            0\n",
       "Time Submitted            0\n",
       "Last Updated              0\n",
       "Reference Number          0\n",
       "Status                    0\n",
       "Unnamed: 5            13817\n",
       "Reporter                  0\n",
       "Assigned To               0\n",
       "Department                0\n",
       "Category                 20\n",
       "location or School       37\n",
       "Contact Person           42\n",
       "Call Mode             13817\n",
       "Caller Type              37\n",
       "Issue Priority            9\n",
       "Telephone Number         37\n",
       "Resolved date          8156\n",
       "Resolved time          8156\n",
       "Resolved by            8156\n",
       "Closed date            1835\n",
       "Closed time            1835\n",
       "Closed by              1835\n",
       "dtype: int64"
      ]
     },
     "execution_count": 76,
     "metadata": {},
     "output_type": "execute_result"
    }
   ],
   "source": [
    "df.isnull().sum()"
   ]
  },
  {
   "cell_type": "code",
   "execution_count": 77,
   "metadata": {},
   "outputs": [],
   "source": [
    "#Dropping irrelevant columns and taking the relevant ones needed for our analysis\n",
    "subset_df = df[[\"Date Submitted\", \"Time Submitted\", \"Last Updated\", \"Reference Number\", \"Status\", \"Reporter\", \"Assigned To\", \"Department\", \"Category\", \"location or School\", \"Contact Person\", \"Caller Type\", \"Issue Priority\", \"Telephone Number\", \"Resolved date\", \"Resolved by\", \"Closed date\", \"Closed time\", \"Closed by\"]]"
   ]
  },
  {
   "cell_type": "code",
   "execution_count": 78,
   "metadata": {},
   "outputs": [
    {
     "data": {
      "text/html": [
       "<div>\n",
       "<style scoped>\n",
       "    .dataframe tbody tr th:only-of-type {\n",
       "        vertical-align: middle;\n",
       "    }\n",
       "\n",
       "    .dataframe tbody tr th {\n",
       "        vertical-align: top;\n",
       "    }\n",
       "\n",
       "    .dataframe thead th {\n",
       "        text-align: right;\n",
       "    }\n",
       "</style>\n",
       "<table border=\"1\" class=\"dataframe\">\n",
       "  <thead>\n",
       "    <tr style=\"text-align: right;\">\n",
       "      <th></th>\n",
       "      <th>Date Submitted</th>\n",
       "      <th>Time Submitted</th>\n",
       "      <th>Last Updated</th>\n",
       "      <th>Reference Number</th>\n",
       "      <th>Status</th>\n",
       "      <th>Reporter</th>\n",
       "      <th>Assigned To</th>\n",
       "      <th>Department</th>\n",
       "      <th>Category</th>\n",
       "      <th>location or School</th>\n",
       "      <th>Contact Person</th>\n",
       "      <th>Caller Type</th>\n",
       "      <th>Issue Priority</th>\n",
       "      <th>Telephone Number</th>\n",
       "      <th>Resolved date</th>\n",
       "      <th>Resolved by</th>\n",
       "      <th>Closed date</th>\n",
       "      <th>Closed time</th>\n",
       "      <th>Closed by</th>\n",
       "    </tr>\n",
       "  </thead>\n",
       "  <tbody>\n",
       "    <tr>\n",
       "      <th>0</th>\n",
       "      <td>2-Jan-18</td>\n",
       "      <td>7:16:20</td>\n",
       "      <td>3-Jan-18</td>\n",
       "      <td>1328758</td>\n",
       "      <td>Closed</td>\n",
       "      <td>Diana.Njambi</td>\n",
       "      <td>Diana.Njambi</td>\n",
       "      <td>Smartphone</td>\n",
       "      <td>Software - Academy Manager Application Synch E...</td>\n",
       "      <td>Ng’iya-SYA</td>\n",
       "      <td>Caroline Achieng Onyango</td>\n",
       "      <td>Academy Manager</td>\n",
       "      <td>Priority 2</td>\n",
       "      <td>2.547160e+11</td>\n",
       "      <td>3-Jan-18</td>\n",
       "      <td>Joseph.Achieng</td>\n",
       "      <td>3-Jan-18</td>\n",
       "      <td>9:48:53</td>\n",
       "      <td>Angela.Kabuchoru</td>\n",
       "    </tr>\n",
       "    <tr>\n",
       "      <th>1</th>\n",
       "      <td>2-Jan-18</td>\n",
       "      <td>7:16:29</td>\n",
       "      <td>10-Jan-18</td>\n",
       "      <td>1328759</td>\n",
       "      <td>Closed</td>\n",
       "      <td>leah.waweru</td>\n",
       "      <td>leah.waweru</td>\n",
       "      <td>Smartphone</td>\n",
       "      <td>Software - Application Uninstalled</td>\n",
       "      <td>Gongoni-KLF</td>\n",
       "      <td>Dennis Rapando</td>\n",
       "      <td>Academy Manager</td>\n",
       "      <td>Priority 2</td>\n",
       "      <td>2.547190e+11</td>\n",
       "      <td>2-Jan-18</td>\n",
       "      <td>Joseph.Achieng</td>\n",
       "      <td>10-Jan-18</td>\n",
       "      <td>11:52:48</td>\n",
       "      <td>Angela.Kabuchoru</td>\n",
       "    </tr>\n",
       "    <tr>\n",
       "      <th>2</th>\n",
       "      <td>2-Jan-18</td>\n",
       "      <td>7:18:27</td>\n",
       "      <td>3-Jan-18</td>\n",
       "      <td>1328761</td>\n",
       "      <td>Closed</td>\n",
       "      <td>leah.waweru</td>\n",
       "      <td>leah.waweru</td>\n",
       "      <td>Smartphone</td>\n",
       "      <td>Software - Unable to Log In</td>\n",
       "      <td>Gongoni-KLF</td>\n",
       "      <td>Dennis Rapando</td>\n",
       "      <td>Academy Manager</td>\n",
       "      <td>Priority 2</td>\n",
       "      <td>2.547190e+11</td>\n",
       "      <td>2-Jan-18</td>\n",
       "      <td>Joseph.Achieng</td>\n",
       "      <td>3-Jan-18</td>\n",
       "      <td>8:13:48</td>\n",
       "      <td>leah.waweru</td>\n",
       "    </tr>\n",
       "    <tr>\n",
       "      <th>3</th>\n",
       "      <td>2-Jan-18</td>\n",
       "      <td>7:18:54</td>\n",
       "      <td>5-Jan-18</td>\n",
       "      <td>1328762</td>\n",
       "      <td>Closed</td>\n",
       "      <td>Diana.Njambi</td>\n",
       "      <td>Diana.Njambi</td>\n",
       "      <td>Smartphone</td>\n",
       "      <td>Software - Academy Manager Application Synch E...</td>\n",
       "      <td>Kehancha-MIG</td>\n",
       "      <td>John Mwana</td>\n",
       "      <td>Academy Manager</td>\n",
       "      <td>Priority 2</td>\n",
       "      <td>2.547020e+11</td>\n",
       "      <td>2-Jan-18</td>\n",
       "      <td>Joseph.Achieng</td>\n",
       "      <td>3-Jan-18</td>\n",
       "      <td>9:48:53</td>\n",
       "      <td>Angela.Kabuchoru</td>\n",
       "    </tr>\n",
       "    <tr>\n",
       "      <th>4</th>\n",
       "      <td>2-Jan-18</td>\n",
       "      <td>7:23:53</td>\n",
       "      <td>3-Jan-18</td>\n",
       "      <td>1328764</td>\n",
       "      <td>Closed</td>\n",
       "      <td>leah.waweru</td>\n",
       "      <td>leah.waweru</td>\n",
       "      <td>Smartphone</td>\n",
       "      <td>Software - Unable to Log In</td>\n",
       "      <td>Panama-USG</td>\n",
       "      <td>Millicent Ambani</td>\n",
       "      <td>Academy Manager</td>\n",
       "      <td>Priority 2</td>\n",
       "      <td>2.547060e+11</td>\n",
       "      <td>2-Jan-18</td>\n",
       "      <td>Joseph.Achieng</td>\n",
       "      <td>3-Jan-18</td>\n",
       "      <td>9:48:53</td>\n",
       "      <td>Angela.Kabuchoru</td>\n",
       "    </tr>\n",
       "  </tbody>\n",
       "</table>\n",
       "</div>"
      ],
      "text/plain": [
       "  Date Submitted Time Submitted Last Updated  Reference Number  Status  \\\n",
       "0       2-Jan-18        7:16:20     3-Jan-18           1328758  Closed   \n",
       "1       2-Jan-18        7:16:29    10-Jan-18           1328759  Closed   \n",
       "2       2-Jan-18        7:18:27     3-Jan-18           1328761  Closed   \n",
       "3       2-Jan-18        7:18:54     5-Jan-18           1328762  Closed   \n",
       "4       2-Jan-18        7:23:53     3-Jan-18           1328764  Closed   \n",
       "\n",
       "       Reporter   Assigned To  Department  \\\n",
       "0  Diana.Njambi  Diana.Njambi  Smartphone   \n",
       "1   leah.waweru   leah.waweru  Smartphone   \n",
       "2   leah.waweru   leah.waweru  Smartphone   \n",
       "3  Diana.Njambi  Diana.Njambi  Smartphone   \n",
       "4   leah.waweru   leah.waweru  Smartphone   \n",
       "\n",
       "                                            Category location or School  \\\n",
       "0  Software - Academy Manager Application Synch E...         Ng’iya-SYA   \n",
       "1                 Software - Application Uninstalled        Gongoni-KLF   \n",
       "2                        Software - Unable to Log In        Gongoni-KLF   \n",
       "3  Software - Academy Manager Application Synch E...       Kehancha-MIG   \n",
       "4                        Software - Unable to Log In         Panama-USG   \n",
       "\n",
       "             Contact Person      Caller Type Issue Priority  Telephone Number  \\\n",
       "0  Caroline Achieng Onyango  Academy Manager     Priority 2      2.547160e+11   \n",
       "1            Dennis Rapando  Academy Manager     Priority 2      2.547190e+11   \n",
       "2            Dennis Rapando  Academy Manager     Priority 2      2.547190e+11   \n",
       "3                John Mwana  Academy Manager     Priority 2      2.547020e+11   \n",
       "4          Millicent Ambani  Academy Manager     Priority 2      2.547060e+11   \n",
       "\n",
       "  Resolved date     Resolved by Closed date Closed time         Closed by  \n",
       "0      3-Jan-18  Joseph.Achieng    3-Jan-18     9:48:53  Angela.Kabuchoru  \n",
       "1      2-Jan-18  Joseph.Achieng   10-Jan-18    11:52:48  Angela.Kabuchoru  \n",
       "2      2-Jan-18  Joseph.Achieng    3-Jan-18     8:13:48       leah.waweru  \n",
       "3      2-Jan-18  Joseph.Achieng    3-Jan-18     9:48:53  Angela.Kabuchoru  \n",
       "4      2-Jan-18  Joseph.Achieng    3-Jan-18     9:48:53  Angela.Kabuchoru  "
      ]
     },
     "execution_count": 78,
     "metadata": {},
     "output_type": "execute_result"
    }
   ],
   "source": [
    "subset_df.head()"
   ]
  },
  {
   "cell_type": "code",
   "execution_count": 79,
   "metadata": {},
   "outputs": [
    {
     "data": {
      "text/plain": [
       "Date Submitted           0\n",
       "Time Submitted           0\n",
       "Last Updated             0\n",
       "Reference Number         0\n",
       "Status                   0\n",
       "Reporter                 0\n",
       "Assigned To              0\n",
       "Department               0\n",
       "Category                20\n",
       "location or School      37\n",
       "Contact Person          42\n",
       "Caller Type             37\n",
       "Issue Priority           9\n",
       "Telephone Number        37\n",
       "Resolved date         8156\n",
       "Resolved by           8156\n",
       "Closed date           1835\n",
       "Closed time           1835\n",
       "Closed by             1835\n",
       "dtype: int64"
      ]
     },
     "execution_count": 79,
     "metadata": {},
     "output_type": "execute_result"
    }
   ],
   "source": [
    "subset_df.isnull().sum()"
   ]
  },
  {
   "cell_type": "code",
   "execution_count": 80,
   "metadata": {},
   "outputs": [
    {
     "data": {
      "text/plain": [
       "Date Submitted         object\n",
       "Time Submitted         object\n",
       "Last Updated           object\n",
       "Reference Number        int64\n",
       "Status                 object\n",
       "Reporter               object\n",
       "Assigned To            object\n",
       "Department             object\n",
       "Category               object\n",
       "location or School     object\n",
       "Contact Person         object\n",
       "Caller Type            object\n",
       "Issue Priority         object\n",
       "Telephone Number      float64\n",
       "Resolved date          object\n",
       "Resolved by            object\n",
       "Closed date            object\n",
       "Closed time            object\n",
       "Closed by              object\n",
       "dtype: object"
      ]
     },
     "execution_count": 80,
     "metadata": {},
     "output_type": "execute_result"
    }
   ],
   "source": [
    "subset_df.dtypes"
   ]
  },
  {
   "cell_type": "code",
   "execution_count": 82,
   "metadata": {},
   "outputs": [],
   "source": [
    "#changing dates to date format\n",
    "subset_df[\"Date Submitted\"] = pd.to_datetime(subset_df['Date Submitted'])\n",
    "subset_df[\"Last Updated\"] = pd.to_datetime(subset_df['Last Updated'])\n",
    "subset_df[\"Closed date\"] = pd.to_datetime(subset_df['Closed date'])"
   ]
  },
  {
   "cell_type": "code",
   "execution_count": 83,
   "metadata": {},
   "outputs": [
    {
     "data": {
      "text/plain": [
       "Date Submitted        datetime64[ns]\n",
       "Time Submitted                object\n",
       "Last Updated          datetime64[ns]\n",
       "Reference Number               int64\n",
       "Status                        object\n",
       "Reporter                      object\n",
       "Assigned To                   object\n",
       "Department                    object\n",
       "Category                      object\n",
       "location or School            object\n",
       "Contact Person                object\n",
       "Caller Type                   object\n",
       "Issue Priority                object\n",
       "Telephone Number             float64\n",
       "Resolved date                 object\n",
       "Resolved by                   object\n",
       "Closed date           datetime64[ns]\n",
       "Closed time                   object\n",
       "Closed by                     object\n",
       "dtype: object"
      ]
     },
     "execution_count": 83,
     "metadata": {},
     "output_type": "execute_result"
    }
   ],
   "source": [
    "subset_df.dtypes"
   ]
  },
  {
   "cell_type": "code",
   "execution_count": 87,
   "metadata": {},
   "outputs": [],
   "source": [
    "#sorting month out from the Date Submitted\n",
    "subset_df['month'] = pd.DatetimeIndex(subset_df['Date Submitted']).month"
   ]
  },
  {
   "cell_type": "code",
   "execution_count": 90,
   "metadata": {
    "scrolled": false
   },
   "outputs": [
    {
     "data": {
      "text/html": [
       "<div>\n",
       "<style scoped>\n",
       "    .dataframe tbody tr th:only-of-type {\n",
       "        vertical-align: middle;\n",
       "    }\n",
       "\n",
       "    .dataframe tbody tr th {\n",
       "        vertical-align: top;\n",
       "    }\n",
       "\n",
       "    .dataframe thead th {\n",
       "        text-align: right;\n",
       "    }\n",
       "</style>\n",
       "<table border=\"1\" class=\"dataframe\">\n",
       "  <thead>\n",
       "    <tr style=\"text-align: right;\">\n",
       "      <th></th>\n",
       "      <th>Date Submitted</th>\n",
       "      <th>Time Submitted</th>\n",
       "      <th>Last Updated</th>\n",
       "      <th>Reference Number</th>\n",
       "      <th>Status</th>\n",
       "      <th>Reporter</th>\n",
       "      <th>Assigned To</th>\n",
       "      <th>Department</th>\n",
       "      <th>Category</th>\n",
       "      <th>location or School</th>\n",
       "      <th>Contact Person</th>\n",
       "      <th>Caller Type</th>\n",
       "      <th>Issue Priority</th>\n",
       "      <th>Telephone Number</th>\n",
       "      <th>Resolved date</th>\n",
       "      <th>Resolved by</th>\n",
       "      <th>Closed date</th>\n",
       "      <th>Closed time</th>\n",
       "      <th>Closed by</th>\n",
       "      <th>month</th>\n",
       "      <th>Date Difference</th>\n",
       "    </tr>\n",
       "  </thead>\n",
       "  <tbody>\n",
       "    <tr>\n",
       "      <th>0</th>\n",
       "      <td>2018-01-02</td>\n",
       "      <td>7:16:20</td>\n",
       "      <td>2018-01-03</td>\n",
       "      <td>1328758</td>\n",
       "      <td>Closed</td>\n",
       "      <td>Diana.Njambi</td>\n",
       "      <td>Diana.Njambi</td>\n",
       "      <td>Smartphone</td>\n",
       "      <td>Software - Academy Manager Application Synch E...</td>\n",
       "      <td>Ng’iya-SYA</td>\n",
       "      <td>Caroline Achieng Onyango</td>\n",
       "      <td>Academy Manager</td>\n",
       "      <td>Priority 2</td>\n",
       "      <td>2.547160e+11</td>\n",
       "      <td>3-Jan-18</td>\n",
       "      <td>Joseph.Achieng</td>\n",
       "      <td>2018-01-03</td>\n",
       "      <td>9:48:53</td>\n",
       "      <td>Angela.Kabuchoru</td>\n",
       "      <td>1</td>\n",
       "      <td>1 days</td>\n",
       "    </tr>\n",
       "    <tr>\n",
       "      <th>1</th>\n",
       "      <td>2018-01-02</td>\n",
       "      <td>7:16:29</td>\n",
       "      <td>2018-01-10</td>\n",
       "      <td>1328759</td>\n",
       "      <td>Closed</td>\n",
       "      <td>leah.waweru</td>\n",
       "      <td>leah.waweru</td>\n",
       "      <td>Smartphone</td>\n",
       "      <td>Software - Application Uninstalled</td>\n",
       "      <td>Gongoni-KLF</td>\n",
       "      <td>Dennis Rapando</td>\n",
       "      <td>Academy Manager</td>\n",
       "      <td>Priority 2</td>\n",
       "      <td>2.547190e+11</td>\n",
       "      <td>2-Jan-18</td>\n",
       "      <td>Joseph.Achieng</td>\n",
       "      <td>2018-01-10</td>\n",
       "      <td>11:52:48</td>\n",
       "      <td>Angela.Kabuchoru</td>\n",
       "      <td>1</td>\n",
       "      <td>8 days</td>\n",
       "    </tr>\n",
       "    <tr>\n",
       "      <th>2</th>\n",
       "      <td>2018-01-02</td>\n",
       "      <td>7:18:27</td>\n",
       "      <td>2018-01-03</td>\n",
       "      <td>1328761</td>\n",
       "      <td>Closed</td>\n",
       "      <td>leah.waweru</td>\n",
       "      <td>leah.waweru</td>\n",
       "      <td>Smartphone</td>\n",
       "      <td>Software - Unable to Log In</td>\n",
       "      <td>Gongoni-KLF</td>\n",
       "      <td>Dennis Rapando</td>\n",
       "      <td>Academy Manager</td>\n",
       "      <td>Priority 2</td>\n",
       "      <td>2.547190e+11</td>\n",
       "      <td>2-Jan-18</td>\n",
       "      <td>Joseph.Achieng</td>\n",
       "      <td>2018-01-03</td>\n",
       "      <td>8:13:48</td>\n",
       "      <td>leah.waweru</td>\n",
       "      <td>1</td>\n",
       "      <td>1 days</td>\n",
       "    </tr>\n",
       "    <tr>\n",
       "      <th>3</th>\n",
       "      <td>2018-01-02</td>\n",
       "      <td>7:18:54</td>\n",
       "      <td>2018-01-05</td>\n",
       "      <td>1328762</td>\n",
       "      <td>Closed</td>\n",
       "      <td>Diana.Njambi</td>\n",
       "      <td>Diana.Njambi</td>\n",
       "      <td>Smartphone</td>\n",
       "      <td>Software - Academy Manager Application Synch E...</td>\n",
       "      <td>Kehancha-MIG</td>\n",
       "      <td>John Mwana</td>\n",
       "      <td>Academy Manager</td>\n",
       "      <td>Priority 2</td>\n",
       "      <td>2.547020e+11</td>\n",
       "      <td>2-Jan-18</td>\n",
       "      <td>Joseph.Achieng</td>\n",
       "      <td>2018-01-03</td>\n",
       "      <td>9:48:53</td>\n",
       "      <td>Angela.Kabuchoru</td>\n",
       "      <td>1</td>\n",
       "      <td>3 days</td>\n",
       "    </tr>\n",
       "    <tr>\n",
       "      <th>4</th>\n",
       "      <td>2018-01-02</td>\n",
       "      <td>7:23:53</td>\n",
       "      <td>2018-01-03</td>\n",
       "      <td>1328764</td>\n",
       "      <td>Closed</td>\n",
       "      <td>leah.waweru</td>\n",
       "      <td>leah.waweru</td>\n",
       "      <td>Smartphone</td>\n",
       "      <td>Software - Unable to Log In</td>\n",
       "      <td>Panama-USG</td>\n",
       "      <td>Millicent Ambani</td>\n",
       "      <td>Academy Manager</td>\n",
       "      <td>Priority 2</td>\n",
       "      <td>2.547060e+11</td>\n",
       "      <td>2-Jan-18</td>\n",
       "      <td>Joseph.Achieng</td>\n",
       "      <td>2018-01-03</td>\n",
       "      <td>9:48:53</td>\n",
       "      <td>Angela.Kabuchoru</td>\n",
       "      <td>1</td>\n",
       "      <td>1 days</td>\n",
       "    </tr>\n",
       "  </tbody>\n",
       "</table>\n",
       "</div>"
      ],
      "text/plain": [
       "  Date Submitted Time Submitted Last Updated  Reference Number  Status  \\\n",
       "0     2018-01-02        7:16:20   2018-01-03           1328758  Closed   \n",
       "1     2018-01-02        7:16:29   2018-01-10           1328759  Closed   \n",
       "2     2018-01-02        7:18:27   2018-01-03           1328761  Closed   \n",
       "3     2018-01-02        7:18:54   2018-01-05           1328762  Closed   \n",
       "4     2018-01-02        7:23:53   2018-01-03           1328764  Closed   \n",
       "\n",
       "       Reporter   Assigned To  Department  \\\n",
       "0  Diana.Njambi  Diana.Njambi  Smartphone   \n",
       "1   leah.waweru   leah.waweru  Smartphone   \n",
       "2   leah.waweru   leah.waweru  Smartphone   \n",
       "3  Diana.Njambi  Diana.Njambi  Smartphone   \n",
       "4   leah.waweru   leah.waweru  Smartphone   \n",
       "\n",
       "                                            Category location or School  \\\n",
       "0  Software - Academy Manager Application Synch E...         Ng’iya-SYA   \n",
       "1                 Software - Application Uninstalled        Gongoni-KLF   \n",
       "2                        Software - Unable to Log In        Gongoni-KLF   \n",
       "3  Software - Academy Manager Application Synch E...       Kehancha-MIG   \n",
       "4                        Software - Unable to Log In         Panama-USG   \n",
       "\n",
       "             Contact Person      Caller Type Issue Priority  Telephone Number  \\\n",
       "0  Caroline Achieng Onyango  Academy Manager     Priority 2      2.547160e+11   \n",
       "1            Dennis Rapando  Academy Manager     Priority 2      2.547190e+11   \n",
       "2            Dennis Rapando  Academy Manager     Priority 2      2.547190e+11   \n",
       "3                John Mwana  Academy Manager     Priority 2      2.547020e+11   \n",
       "4          Millicent Ambani  Academy Manager     Priority 2      2.547060e+11   \n",
       "\n",
       "  Resolved date     Resolved by Closed date Closed time         Closed by  \\\n",
       "0      3-Jan-18  Joseph.Achieng  2018-01-03     9:48:53  Angela.Kabuchoru   \n",
       "1      2-Jan-18  Joseph.Achieng  2018-01-10    11:52:48  Angela.Kabuchoru   \n",
       "2      2-Jan-18  Joseph.Achieng  2018-01-03     8:13:48       leah.waweru   \n",
       "3      2-Jan-18  Joseph.Achieng  2018-01-03     9:48:53  Angela.Kabuchoru   \n",
       "4      2-Jan-18  Joseph.Achieng  2018-01-03     9:48:53  Angela.Kabuchoru   \n",
       "\n",
       "   month Date Difference  \n",
       "0      1          1 days  \n",
       "1      1          8 days  \n",
       "2      1          1 days  \n",
       "3      1          3 days  \n",
       "4      1          1 days  "
      ]
     },
     "execution_count": 90,
     "metadata": {},
     "output_type": "execute_result"
    }
   ],
   "source": [
    "subset_df.head()"
   ]
  },
  {
   "cell_type": "code",
   "execution_count": 89,
   "metadata": {},
   "outputs": [],
   "source": [
    "#Getting the age of tickets\n",
    "subset_df[\"Date Difference\"] = subset_df[\"Last Updated\"] - subset_df[\"Date Submitted\"]"
   ]
  },
  {
   "cell_type": "code",
   "execution_count": 91,
   "metadata": {},
   "outputs": [],
   "source": [
    "#Removing days and leaving number of days\n",
    "subset_df[\"Date Difference\"] = subset_df[\"Date Difference\"].dt.days.astype(\"int64\")"
   ]
  },
  {
   "cell_type": "markdown",
   "metadata": {},
   "source": [
    "### The average age of all tickets that are neither resolved nor closed "
   ]
  },
  {
   "cell_type": "code",
   "execution_count": 92,
   "metadata": {},
   "outputs": [
    {
     "data": {
      "text/plain": [
       "Closed       11845\n",
       "Assigned      1428\n",
       "Resolved       368\n",
       "Confirmed      147\n",
       "Feedback        29\n",
       "Name: Status, dtype: int64"
      ]
     },
     "execution_count": 92,
     "metadata": {},
     "output_type": "execute_result"
    }
   ],
   "source": [
    "subset_df[\"Status\"].value_counts()"
   ]
  },
  {
   "cell_type": "code",
   "execution_count": 93,
   "metadata": {},
   "outputs": [],
   "source": [
    "tickets_avg_age = subset_df[(subset_df[\"Status\"] != \"Closed\") & (subset_df[\"Status\"] != \"Resolved\")]"
   ]
  },
  {
   "cell_type": "code",
   "execution_count": 94,
   "metadata": {},
   "outputs": [
    {
     "data": {
      "text/html": [
       "<div>\n",
       "<style scoped>\n",
       "    .dataframe tbody tr th:only-of-type {\n",
       "        vertical-align: middle;\n",
       "    }\n",
       "\n",
       "    .dataframe tbody tr th {\n",
       "        vertical-align: top;\n",
       "    }\n",
       "\n",
       "    .dataframe thead th {\n",
       "        text-align: right;\n",
       "    }\n",
       "</style>\n",
       "<table border=\"1\" class=\"dataframe\">\n",
       "  <thead>\n",
       "    <tr style=\"text-align: right;\">\n",
       "      <th></th>\n",
       "      <th>Date Submitted</th>\n",
       "      <th>Time Submitted</th>\n",
       "      <th>Last Updated</th>\n",
       "      <th>Reference Number</th>\n",
       "      <th>Status</th>\n",
       "      <th>Reporter</th>\n",
       "      <th>Assigned To</th>\n",
       "      <th>Department</th>\n",
       "      <th>Category</th>\n",
       "      <th>location or School</th>\n",
       "      <th>Contact Person</th>\n",
       "      <th>Caller Type</th>\n",
       "      <th>Issue Priority</th>\n",
       "      <th>Telephone Number</th>\n",
       "      <th>Resolved date</th>\n",
       "      <th>Resolved by</th>\n",
       "      <th>Closed date</th>\n",
       "      <th>Closed time</th>\n",
       "      <th>Closed by</th>\n",
       "      <th>month</th>\n",
       "      <th>Date Difference</th>\n",
       "    </tr>\n",
       "  </thead>\n",
       "  <tbody>\n",
       "    <tr>\n",
       "      <th>115</th>\n",
       "      <td>2018-01-03</td>\n",
       "      <td>7:45:22</td>\n",
       "      <td>2018-07-04</td>\n",
       "      <td>1329379</td>\n",
       "      <td>Assigned</td>\n",
       "      <td>Winnie.silpah</td>\n",
       "      <td>Bethseba.Makokha</td>\n",
       "      <td>Power Bank\\Battery Backup</td>\n",
       "      <td>Not Returned by Former Staff</td>\n",
       "      <td>Kamuthi-NBO</td>\n",
       "      <td>Edwin Kimani Wairimu(sub)</td>\n",
       "      <td>Academy Manager</td>\n",
       "      <td>Priority 2</td>\n",
       "      <td>2.547130e+11</td>\n",
       "      <td>17-Jan-18</td>\n",
       "      <td>lilian.maina</td>\n",
       "      <td>NaT</td>\n",
       "      <td>NaN</td>\n",
       "      <td>NaN</td>\n",
       "      <td>1</td>\n",
       "      <td>182</td>\n",
       "    </tr>\n",
       "    <tr>\n",
       "      <th>2363</th>\n",
       "      <td>2018-02-01</td>\n",
       "      <td>15:13:54</td>\n",
       "      <td>2018-08-01</td>\n",
       "      <td>1341249</td>\n",
       "      <td>Assigned</td>\n",
       "      <td>jairus.macharia</td>\n",
       "      <td>Bethseba.Makokha</td>\n",
       "      <td>Power Bank\\Battery Backup</td>\n",
       "      <td>Hardware - Malfunctioning Device</td>\n",
       "      <td>Wasweta-MIG</td>\n",
       "      <td>T06687 Odero Arnold Maende</td>\n",
       "      <td>Teacher</td>\n",
       "      <td>Priority 3</td>\n",
       "      <td>2.547060e+11</td>\n",
       "      <td>NaN</td>\n",
       "      <td>NaN</td>\n",
       "      <td>NaT</td>\n",
       "      <td>NaN</td>\n",
       "      <td>NaN</td>\n",
       "      <td>2</td>\n",
       "      <td>181</td>\n",
       "    </tr>\n",
       "    <tr>\n",
       "      <th>2680</th>\n",
       "      <td>2018-02-06</td>\n",
       "      <td>14:37:38</td>\n",
       "      <td>2018-10-12</td>\n",
       "      <td>1343007</td>\n",
       "      <td>Assigned</td>\n",
       "      <td>carolyne.kimanthi</td>\n",
       "      <td>Bethseba.Makokha</td>\n",
       "      <td>Power Bank\\Battery Backup</td>\n",
       "      <td>Hardware - Asset Issuance</td>\n",
       "      <td>Ndumberi-KBU</td>\n",
       "      <td>Charity Karimi</td>\n",
       "      <td>Academy Manager</td>\n",
       "      <td>Priority 2</td>\n",
       "      <td>2.547130e+11</td>\n",
       "      <td>NaN</td>\n",
       "      <td>NaN</td>\n",
       "      <td>NaT</td>\n",
       "      <td>NaN</td>\n",
       "      <td>NaN</td>\n",
       "      <td>2</td>\n",
       "      <td>248</td>\n",
       "    </tr>\n",
       "    <tr>\n",
       "      <th>2712</th>\n",
       "      <td>2018-02-06</td>\n",
       "      <td>16:28:34</td>\n",
       "      <td>2018-07-13</td>\n",
       "      <td>1343107</td>\n",
       "      <td>Assigned</td>\n",
       "      <td>joyce.kamau</td>\n",
       "      <td>Bethseba.Makokha</td>\n",
       "      <td>Power Bank\\Battery Backup</td>\n",
       "      <td>Hardware - Asset Issuance</td>\n",
       "      <td>Mairo Inya-NDR</td>\n",
       "      <td>Am</td>\n",
       "      <td>QA</td>\n",
       "      <td>Priority 2</td>\n",
       "      <td>7.008944e+08</td>\n",
       "      <td>NaN</td>\n",
       "      <td>NaN</td>\n",
       "      <td>NaT</td>\n",
       "      <td>NaN</td>\n",
       "      <td>NaN</td>\n",
       "      <td>2</td>\n",
       "      <td>157</td>\n",
       "    </tr>\n",
       "    <tr>\n",
       "      <th>2766</th>\n",
       "      <td>2018-02-07</td>\n",
       "      <td>10:51:30</td>\n",
       "      <td>2018-10-08</td>\n",
       "      <td>1343421</td>\n",
       "      <td>Assigned</td>\n",
       "      <td>Lilau.Kimpei</td>\n",
       "      <td>Bethseba.Makokha</td>\n",
       "      <td>Power Bank\\Battery Backup</td>\n",
       "      <td>Hardware - Malfunctioning Device</td>\n",
       "      <td>Kagio-KIR</td>\n",
       "      <td>Susan Wanjiru Muigai AM1753</td>\n",
       "      <td>Academy Manager</td>\n",
       "      <td>Priority 2</td>\n",
       "      <td>7.008663e+08</td>\n",
       "      <td>NaN</td>\n",
       "      <td>NaN</td>\n",
       "      <td>NaT</td>\n",
       "      <td>NaN</td>\n",
       "      <td>NaN</td>\n",
       "      <td>2</td>\n",
       "      <td>243</td>\n",
       "    </tr>\n",
       "  </tbody>\n",
       "</table>\n",
       "</div>"
      ],
      "text/plain": [
       "     Date Submitted Time Submitted Last Updated  Reference Number    Status  \\\n",
       "115      2018-01-03        7:45:22   2018-07-04           1329379  Assigned   \n",
       "2363     2018-02-01       15:13:54   2018-08-01           1341249  Assigned   \n",
       "2680     2018-02-06       14:37:38   2018-10-12           1343007  Assigned   \n",
       "2712     2018-02-06       16:28:34   2018-07-13           1343107  Assigned   \n",
       "2766     2018-02-07       10:51:30   2018-10-08           1343421  Assigned   \n",
       "\n",
       "               Reporter       Assigned To                 Department  \\\n",
       "115       Winnie.silpah  Bethseba.Makokha  Power Bank\\Battery Backup   \n",
       "2363    jairus.macharia  Bethseba.Makokha  Power Bank\\Battery Backup   \n",
       "2680  carolyne.kimanthi  Bethseba.Makokha  Power Bank\\Battery Backup   \n",
       "2712        joyce.kamau  Bethseba.Makokha  Power Bank\\Battery Backup   \n",
       "2766       Lilau.Kimpei  Bethseba.Makokha  Power Bank\\Battery Backup   \n",
       "\n",
       "                              Category location or School  \\\n",
       "115       Not Returned by Former Staff        Kamuthi-NBO   \n",
       "2363  Hardware - Malfunctioning Device        Wasweta-MIG   \n",
       "2680         Hardware - Asset Issuance       Ndumberi-KBU   \n",
       "2712         Hardware - Asset Issuance     Mairo Inya-NDR   \n",
       "2766  Hardware - Malfunctioning Device          Kagio-KIR   \n",
       "\n",
       "                   Contact Person      Caller Type Issue Priority  \\\n",
       "115     Edwin Kimani Wairimu(sub)  Academy Manager     Priority 2   \n",
       "2363   T06687 Odero Arnold Maende          Teacher     Priority 3   \n",
       "2680               Charity Karimi  Academy Manager     Priority 2   \n",
       "2712                           Am               QA     Priority 2   \n",
       "2766  Susan Wanjiru Muigai AM1753  Academy Manager     Priority 2   \n",
       "\n",
       "      Telephone Number Resolved date   Resolved by Closed date Closed time  \\\n",
       "115       2.547130e+11     17-Jan-18  lilian.maina         NaT         NaN   \n",
       "2363      2.547060e+11           NaN           NaN         NaT         NaN   \n",
       "2680      2.547130e+11           NaN           NaN         NaT         NaN   \n",
       "2712      7.008944e+08           NaN           NaN         NaT         NaN   \n",
       "2766      7.008663e+08           NaN           NaN         NaT         NaN   \n",
       "\n",
       "     Closed by  month  Date Difference  \n",
       "115        NaN      1              182  \n",
       "2363       NaN      2              181  \n",
       "2680       NaN      2              248  \n",
       "2712       NaN      2              157  \n",
       "2766       NaN      2              243  "
      ]
     },
     "execution_count": 94,
     "metadata": {},
     "output_type": "execute_result"
    }
   ],
   "source": [
    "tickets_avg_age.head()"
   ]
  },
  {
   "cell_type": "code",
   "execution_count": 95,
   "metadata": {},
   "outputs": [
    {
     "data": {
      "text/plain": [
       "26.105361596009974"
      ]
     },
     "execution_count": 95,
     "metadata": {},
     "output_type": "execute_result"
    }
   ],
   "source": [
    "np.mean(tickets_avg_age['Date Difference'])"
   ]
  },
  {
   "cell_type": "markdown",
   "metadata": {},
   "source": [
    "The average age of tickets that are neither resolved nor closed is 26 days"
   ]
  },
  {
   "cell_type": "markdown",
   "metadata": {},
   "source": [
    "### The maximum number of tickets each month, grouped by Category \n"
   ]
  },
  {
   "cell_type": "code",
   "execution_count": 101,
   "metadata": {},
   "outputs": [],
   "source": [
    "no_of_monthly_tickets = subset_df.groupby([\"month\", \"Category\"])[[\"Date Submitted\"]].count().reset_index()"
   ]
  },
  {
   "cell_type": "code",
   "execution_count": 130,
   "metadata": {},
   "outputs": [],
   "source": [
    "dd=no_of_monthly_tickets.reset_index(drop=True).rename(columns={\"Date Submitted\": \"ticket_count\"})"
   ]
  },
  {
   "cell_type": "code",
   "execution_count": 145,
   "metadata": {},
   "outputs": [
    {
     "data": {
      "text/html": [
       "<div>\n",
       "<style scoped>\n",
       "    .dataframe tbody tr th:only-of-type {\n",
       "        vertical-align: middle;\n",
       "    }\n",
       "\n",
       "    .dataframe tbody tr th {\n",
       "        vertical-align: top;\n",
       "    }\n",
       "\n",
       "    .dataframe thead th {\n",
       "        text-align: right;\n",
       "    }\n",
       "</style>\n",
       "<table border=\"1\" class=\"dataframe\">\n",
       "  <thead>\n",
       "    <tr style=\"text-align: right;\">\n",
       "      <th></th>\n",
       "      <th>month</th>\n",
       "      <th>Category</th>\n",
       "      <th>ticket_count</th>\n",
       "    </tr>\n",
       "  </thead>\n",
       "  <tbody>\n",
       "    <tr>\n",
       "      <th>0</th>\n",
       "      <td>1</td>\n",
       "      <td>Hardware - Unresponsive Device</td>\n",
       "      <td>424</td>\n",
       "    </tr>\n",
       "    <tr>\n",
       "      <th>1</th>\n",
       "      <td>2</td>\n",
       "      <td>Hardware - Unresponsive Device</td>\n",
       "      <td>324</td>\n",
       "    </tr>\n",
       "    <tr>\n",
       "      <th>2</th>\n",
       "      <td>3</td>\n",
       "      <td>Hardware - Unresponsive Device</td>\n",
       "      <td>184</td>\n",
       "    </tr>\n",
       "    <tr>\n",
       "      <th>3</th>\n",
       "      <td>4</td>\n",
       "      <td>Hardware - Unresponsive Device</td>\n",
       "      <td>151</td>\n",
       "    </tr>\n",
       "    <tr>\n",
       "      <th>4</th>\n",
       "      <td>5</td>\n",
       "      <td>Hardware - Unresponsive Device</td>\n",
       "      <td>331</td>\n",
       "    </tr>\n",
       "    <tr>\n",
       "      <th>5</th>\n",
       "      <td>6</td>\n",
       "      <td>Hardware - Unresponsive Device</td>\n",
       "      <td>199</td>\n",
       "    </tr>\n",
       "    <tr>\n",
       "      <th>6</th>\n",
       "      <td>7</td>\n",
       "      <td>Hardware - Unresponsive Device</td>\n",
       "      <td>229</td>\n",
       "    </tr>\n",
       "    <tr>\n",
       "      <th>7</th>\n",
       "      <td>8</td>\n",
       "      <td>Hardware - Unresponsive Device</td>\n",
       "      <td>210</td>\n",
       "    </tr>\n",
       "    <tr>\n",
       "      <th>8</th>\n",
       "      <td>9</td>\n",
       "      <td>Hardware - Unresponsive Device</td>\n",
       "      <td>223</td>\n",
       "    </tr>\n",
       "    <tr>\n",
       "      <th>9</th>\n",
       "      <td>10</td>\n",
       "      <td>Hardware - Unresponsive Device</td>\n",
       "      <td>210</td>\n",
       "    </tr>\n",
       "  </tbody>\n",
       "</table>\n",
       "</div>"
      ],
      "text/plain": [
       "   month                        Category  ticket_count\n",
       "0      1  Hardware - Unresponsive Device           424\n",
       "1      2  Hardware - Unresponsive Device           324\n",
       "2      3  Hardware - Unresponsive Device           184\n",
       "3      4  Hardware - Unresponsive Device           151\n",
       "4      5  Hardware - Unresponsive Device           331\n",
       "5      6  Hardware - Unresponsive Device           199\n",
       "6      7  Hardware - Unresponsive Device           229\n",
       "7      8  Hardware - Unresponsive Device           210\n",
       "8      9  Hardware - Unresponsive Device           223\n",
       "9     10  Hardware - Unresponsive Device           210"
      ]
     },
     "execution_count": 145,
     "metadata": {},
     "output_type": "execute_result"
    }
   ],
   "source": [
    "empty = []\n",
    "lst = range(1,11)\n",
    "for num in lst:\n",
    "    t = dd.loc[dd[\"month\"] == num]\n",
    "    empty.append(t.loc[t[\"ticket_count\"] == t[\"ticket_count\"].max()])\n",
    "df_final = pd.concat(tuple(empty), ignore_index = True)\n",
    "df_final"
   ]
  },
  {
   "cell_type": "markdown",
   "metadata": {},
   "source": [
    "The Hardware - Unresponsive Device needs to be fixed, it is a recurring issue every month."
   ]
  },
  {
   "cell_type": "code",
   "execution_count": 55,
   "metadata": {},
   "outputs": [
    {
     "data": {
      "text/plain": [
       "Hardware - Unresponsive Device                         2485\n",
       "Software - Application Unresponsive                    1338\n",
       "Hardware - Faulty Charging System                      1042\n",
       "Hardware - Device Screen Broken                         964\n",
       "Software - Academy Manager Application Synch Errors     883\n",
       "Name: Category, dtype: int64"
      ]
     },
     "execution_count": 55,
     "metadata": {},
     "output_type": "execute_result"
    }
   ],
   "source": [
    "#Checking the top 5 category issues\n",
    "subset_df[\"Category\"].value_counts().head(5)"
   ]
  },
  {
   "cell_type": "markdown",
   "metadata": {},
   "source": [
    "- These are the top 5 issues.\n",
    "- The Hardware - Unresponsive Device needs to be addressed, it has almost 2500 tickets in total."
   ]
  },
  {
   "cell_type": "markdown",
   "metadata": {},
   "source": [
    "### The average time it took the resolved tickets to go from “submitted” to “resolved” "
   ]
  },
  {
   "cell_type": "code",
   "execution_count": 334,
   "metadata": {},
   "outputs": [],
   "source": [
    "subset_df[\"Resolved date\"] = pd.to_datetime(subset_df['Resolved date'])"
   ]
  },
  {
   "cell_type": "code",
   "execution_count": 398,
   "metadata": {},
   "outputs": [],
   "source": [
    "subset_df[\"Date Diff\"] = subset_df[\"Resolved date\"] - subset_df[\"Date Submitted\"]"
   ]
  },
  {
   "cell_type": "code",
   "execution_count": 27,
   "metadata": {},
   "outputs": [],
   "source": [
    "ticket_avg_time = subset_df.loc[subset_df[\"Status\"] == \"Resolved\"]"
   ]
  },
  {
   "cell_type": "code",
   "execution_count": 337,
   "metadata": {},
   "outputs": [
    {
     "data": {
      "text/html": [
       "<div>\n",
       "<style scoped>\n",
       "    .dataframe tbody tr th:only-of-type {\n",
       "        vertical-align: middle;\n",
       "    }\n",
       "\n",
       "    .dataframe tbody tr th {\n",
       "        vertical-align: top;\n",
       "    }\n",
       "\n",
       "    .dataframe thead th {\n",
       "        text-align: right;\n",
       "    }\n",
       "</style>\n",
       "<table border=\"1\" class=\"dataframe\">\n",
       "  <thead>\n",
       "    <tr style=\"text-align: right;\">\n",
       "      <th></th>\n",
       "      <th>Date Submitted</th>\n",
       "      <th>Time Submitted</th>\n",
       "      <th>Last Updated</th>\n",
       "      <th>Reference Number</th>\n",
       "      <th>Status</th>\n",
       "      <th>Reporter</th>\n",
       "      <th>Assigned To</th>\n",
       "      <th>Department</th>\n",
       "      <th>Category</th>\n",
       "      <th>location or School</th>\n",
       "      <th>Contact Person</th>\n",
       "      <th>Caller Type</th>\n",
       "      <th>Issue Priority</th>\n",
       "      <th>Telephone Number</th>\n",
       "      <th>Closed date</th>\n",
       "      <th>Closed time</th>\n",
       "      <th>Closed by</th>\n",
       "      <th>month</th>\n",
       "      <th>Date Difference</th>\n",
       "    </tr>\n",
       "  </thead>\n",
       "  <tbody>\n",
       "    <tr>\n",
       "      <th>5737</th>\n",
       "      <td>2018-04-23</td>\n",
       "      <td>15:32:00</td>\n",
       "      <td>2018-09-14</td>\n",
       "      <td>1363701</td>\n",
       "      <td>Resolved</td>\n",
       "      <td>ruth.namutamba</td>\n",
       "      <td>sandra.kaanyi</td>\n",
       "      <td>Device Charger</td>\n",
       "      <td>Hardware - Asset Retrieval</td>\n",
       "      <td>Ttula-WA</td>\n",
       "      <td>Clara Gloria Karungi</td>\n",
       "      <td>Academy Manager</td>\n",
       "      <td>Priority 2</td>\n",
       "      <td>2.567890e+11</td>\n",
       "      <td>2018-05-30</td>\n",
       "      <td>14:47:56</td>\n",
       "      <td>sandra.kaanyi</td>\n",
       "      <td>4</td>\n",
       "      <td>144</td>\n",
       "    </tr>\n",
       "    <tr>\n",
       "      <th>5738</th>\n",
       "      <td>2018-04-23</td>\n",
       "      <td>15:32:00</td>\n",
       "      <td>2018-09-14</td>\n",
       "      <td>1363701</td>\n",
       "      <td>Resolved</td>\n",
       "      <td>ruth.namutamba</td>\n",
       "      <td>sandra.kaanyi</td>\n",
       "      <td>Device Charger</td>\n",
       "      <td>Hardware - Asset Retrieval</td>\n",
       "      <td>Ttula-WA</td>\n",
       "      <td>Clara Gloria Karungi</td>\n",
       "      <td>Academy Manager</td>\n",
       "      <td>Priority 2</td>\n",
       "      <td>2.567890e+11</td>\n",
       "      <td>2018-05-30</td>\n",
       "      <td>14:47:56</td>\n",
       "      <td>sandra.kaanyi</td>\n",
       "      <td>4</td>\n",
       "      <td>144</td>\n",
       "    </tr>\n",
       "    <tr>\n",
       "      <th>7740</th>\n",
       "      <td>2018-05-30</td>\n",
       "      <td>10:37:01</td>\n",
       "      <td>2018-09-13</td>\n",
       "      <td>1374803</td>\n",
       "      <td>Resolved</td>\n",
       "      <td>Winnie.silpah</td>\n",
       "      <td>doreen.mirembe</td>\n",
       "      <td>Teacher Computer</td>\n",
       "      <td>Hardware - Device Screen Blurred</td>\n",
       "      <td>Abayita Ababiri-WA</td>\n",
       "      <td>Ayebazibwe Jenipher</td>\n",
       "      <td>Academy Manager</td>\n",
       "      <td>Priority 2</td>\n",
       "      <td>2.567830e+11</td>\n",
       "      <td>NaT</td>\n",
       "      <td>NaN</td>\n",
       "      <td>NaN</td>\n",
       "      <td>5</td>\n",
       "      <td>106</td>\n",
       "    </tr>\n",
       "    <tr>\n",
       "      <th>7741</th>\n",
       "      <td>2018-05-30</td>\n",
       "      <td>10:37:01</td>\n",
       "      <td>2018-09-13</td>\n",
       "      <td>1374804</td>\n",
       "      <td>Resolved</td>\n",
       "      <td>Winnie.silpah</td>\n",
       "      <td>doreen.mirembe</td>\n",
       "      <td>Teacher Computer</td>\n",
       "      <td>Hardware - Unresponsive Device</td>\n",
       "      <td>Abayita Ababiri-WA</td>\n",
       "      <td>Ayebazibwe Jenipher</td>\n",
       "      <td>Academy Manager</td>\n",
       "      <td>Priority 2</td>\n",
       "      <td>2.567830e+11</td>\n",
       "      <td>NaT</td>\n",
       "      <td>NaN</td>\n",
       "      <td>NaN</td>\n",
       "      <td>5</td>\n",
       "      <td>106</td>\n",
       "    </tr>\n",
       "    <tr>\n",
       "      <th>7794</th>\n",
       "      <td>2018-05-31</td>\n",
       "      <td>10:35:23</td>\n",
       "      <td>2018-09-13</td>\n",
       "      <td>1375164</td>\n",
       "      <td>Resolved</td>\n",
       "      <td>Winnie.silpah</td>\n",
       "      <td>doreen.mirembe</td>\n",
       "      <td>Teacher Computer</td>\n",
       "      <td>Hardware - Device Cannot Power Up</td>\n",
       "      <td>Buwenge-JI</td>\n",
       "      <td>Nansiri Zaina</td>\n",
       "      <td>Academy Manager</td>\n",
       "      <td>Priority 2</td>\n",
       "      <td>2.567760e+11</td>\n",
       "      <td>NaT</td>\n",
       "      <td>NaN</td>\n",
       "      <td>NaN</td>\n",
       "      <td>5</td>\n",
       "      <td>105</td>\n",
       "    </tr>\n",
       "  </tbody>\n",
       "</table>\n",
       "</div>"
      ],
      "text/plain": [
       "     Date Submitted Time Submitted Last Updated  Reference Number    Status  \\\n",
       "5737     2018-04-23       15:32:00   2018-09-14           1363701  Resolved   \n",
       "5738     2018-04-23       15:32:00   2018-09-14           1363701  Resolved   \n",
       "7740     2018-05-30       10:37:01   2018-09-13           1374803  Resolved   \n",
       "7741     2018-05-30       10:37:01   2018-09-13           1374804  Resolved   \n",
       "7794     2018-05-31       10:35:23   2018-09-13           1375164  Resolved   \n",
       "\n",
       "            Reporter     Assigned To        Department  \\\n",
       "5737  ruth.namutamba   sandra.kaanyi    Device Charger   \n",
       "5738  ruth.namutamba   sandra.kaanyi    Device Charger   \n",
       "7740   Winnie.silpah  doreen.mirembe  Teacher Computer   \n",
       "7741   Winnie.silpah  doreen.mirembe  Teacher Computer   \n",
       "7794   Winnie.silpah  doreen.mirembe  Teacher Computer   \n",
       "\n",
       "                               Category  location or School  \\\n",
       "5737         Hardware - Asset Retrieval            Ttula-WA   \n",
       "5738         Hardware - Asset Retrieval            Ttula-WA   \n",
       "7740   Hardware - Device Screen Blurred  Abayita Ababiri-WA   \n",
       "7741     Hardware - Unresponsive Device  Abayita Ababiri-WA   \n",
       "7794  Hardware - Device Cannot Power Up          Buwenge-JI   \n",
       "\n",
       "            Contact Person      Caller Type Issue Priority  Telephone Number  \\\n",
       "5737  Clara Gloria Karungi  Academy Manager     Priority 2      2.567890e+11   \n",
       "5738  Clara Gloria Karungi  Academy Manager     Priority 2      2.567890e+11   \n",
       "7740   Ayebazibwe Jenipher  Academy Manager     Priority 2      2.567830e+11   \n",
       "7741   Ayebazibwe Jenipher  Academy Manager     Priority 2      2.567830e+11   \n",
       "7794         Nansiri Zaina  Academy Manager     Priority 2      2.567760e+11   \n",
       "\n",
       "     Closed date Closed time      Closed by  month  Date Difference  \n",
       "5737  2018-05-30    14:47:56  sandra.kaanyi      4              144  \n",
       "5738  2018-05-30    14:47:56  sandra.kaanyi      4              144  \n",
       "7740         NaT         NaN            NaN      5              106  \n",
       "7741         NaT         NaN            NaN      5              106  \n",
       "7794         NaT         NaN            NaN      5              105  "
      ]
     },
     "execution_count": 337,
     "metadata": {},
     "output_type": "execute_result"
    }
   ],
   "source": [
    "ticket_avg_time.head()"
   ]
  },
  {
   "cell_type": "code",
   "execution_count": 29,
   "metadata": {},
   "outputs": [
    {
     "data": {
      "text/plain": [
       "44.41032608695652"
      ]
     },
     "execution_count": 29,
     "metadata": {},
     "output_type": "execute_result"
    }
   ],
   "source": [
    "np.mean(ticket_avg_time[\"Date Difference\"])"
   ]
  },
  {
   "cell_type": "markdown",
   "metadata": {},
   "source": [
    "It takes an average of 44 days to resolve a ticket from the submitted date"
   ]
  },
  {
   "cell_type": "code",
   "execution_count": 57,
   "metadata": {},
   "outputs": [
    {
     "data": {
      "text/plain": [
       "ian.njagi            2617\n",
       "Peter.Waweru         1908\n",
       "Joseph.Achieng       1861\n",
       "Bethseba.Makokha     1359\n",
       "Priscilla.Kinonga    1274\n",
       "Name: Assigned To, dtype: int64"
      ]
     },
     "execution_count": 57,
     "metadata": {},
     "output_type": "execute_result"
    }
   ],
   "source": [
    "#Checking top 5 staff with assigned jobs\n",
    "subset_df[\"Assigned To\"].value_counts().head()"
   ]
  },
  {
   "cell_type": "code",
   "execution_count": 58,
   "metadata": {},
   "outputs": [
    {
     "data": {
      "text/plain": [
       "ian.njagi            3988\n",
       "Bethseba.Makokha     1446\n",
       "Joseph.Achieng       1296\n",
       "Priscilla.Kinonga    1246\n",
       "nsuuta.nabunje        765\n",
       "Name: Closed by, dtype: int64"
      ]
     },
     "execution_count": 58,
     "metadata": {},
     "output_type": "execute_result"
    }
   ],
   "source": [
    "#Checking top 5 staff who close tickets\n",
    "subset_df[\"Closed by\"].value_counts().head()"
   ]
  },
  {
   "cell_type": "code",
   "execution_count": 59,
   "metadata": {},
   "outputs": [
    {
     "data": {
      "text/plain": [
       "fahad.mubiru         975\n",
       "carolyne.kimanthi    933\n",
       "nsuuta.nabunje       497\n",
       "lilian.maina         477\n",
       "Joseph.Achieng       438\n",
       "Name: Resolved by, dtype: int64"
      ]
     },
     "execution_count": 59,
     "metadata": {},
     "output_type": "execute_result"
    }
   ],
   "source": [
    "#Checking top 5 Issue resolving staff \n",
    "df[\"Resolved by\"].value_counts().head()"
   ]
  },
  {
   "cell_type": "code",
   "execution_count": 60,
   "metadata": {},
   "outputs": [
    {
     "data": {
      "text/plain": [
       "nicholus.katuramu    1\n",
       "edward.onsongo       1\n",
       "fares.belghith       1\n",
       "joyce.kamau          1\n",
       "emily.mwendwa        1\n",
       "Name: Resolved by, dtype: int64"
      ]
     },
     "execution_count": 60,
     "metadata": {},
     "output_type": "execute_result"
    }
   ],
   "source": [
    "#Checking least 5 Issue resolving staff \n",
    "df[\"Resolved by\"].value_counts().tail()"
   ]
  },
  {
   "cell_type": "code",
   "execution_count": 89,
   "metadata": {},
   "outputs": [],
   "source": [
    "monthly_tickets = subset_df.month.value_counts().reset_index().rename(columns={\"index\":\"month\", \"month\":\"tickets_submitted\"}).sort_values(\"month\")"
   ]
  },
  {
   "cell_type": "code",
   "execution_count": 90,
   "metadata": {},
   "outputs": [
    {
     "data": {
      "text/html": [
       "<div>\n",
       "<style scoped>\n",
       "    .dataframe tbody tr th:only-of-type {\n",
       "        vertical-align: middle;\n",
       "    }\n",
       "\n",
       "    .dataframe tbody tr th {\n",
       "        vertical-align: top;\n",
       "    }\n",
       "\n",
       "    .dataframe thead th {\n",
       "        text-align: right;\n",
       "    }\n",
       "</style>\n",
       "<table border=\"1\" class=\"dataframe\">\n",
       "  <thead>\n",
       "    <tr style=\"text-align: right;\">\n",
       "      <th></th>\n",
       "      <th>month</th>\n",
       "      <th>tickets_submitted</th>\n",
       "    </tr>\n",
       "  </thead>\n",
       "  <tbody>\n",
       "    <tr>\n",
       "      <th>0</th>\n",
       "      <td>1</td>\n",
       "      <td>2270</td>\n",
       "    </tr>\n",
       "    <tr>\n",
       "      <th>2</th>\n",
       "      <td>2</td>\n",
       "      <td>1733</td>\n",
       "    </tr>\n",
       "    <tr>\n",
       "      <th>7</th>\n",
       "      <td>3</td>\n",
       "      <td>1108</td>\n",
       "    </tr>\n",
       "    <tr>\n",
       "      <th>8</th>\n",
       "      <td>4</td>\n",
       "      <td>952</td>\n",
       "    </tr>\n",
       "    <tr>\n",
       "      <th>1</th>\n",
       "      <td>5</td>\n",
       "      <td>1755</td>\n",
       "    </tr>\n",
       "    <tr>\n",
       "      <th>4</th>\n",
       "      <td>6</td>\n",
       "      <td>1278</td>\n",
       "    </tr>\n",
       "    <tr>\n",
       "      <th>5</th>\n",
       "      <td>7</td>\n",
       "      <td>1247</td>\n",
       "    </tr>\n",
       "    <tr>\n",
       "      <th>6</th>\n",
       "      <td>8</td>\n",
       "      <td>1159</td>\n",
       "    </tr>\n",
       "    <tr>\n",
       "      <th>3</th>\n",
       "      <td>9</td>\n",
       "      <td>1399</td>\n",
       "    </tr>\n",
       "    <tr>\n",
       "      <th>9</th>\n",
       "      <td>10</td>\n",
       "      <td>916</td>\n",
       "    </tr>\n",
       "  </tbody>\n",
       "</table>\n",
       "</div>"
      ],
      "text/plain": [
       "   month  tickets_submitted\n",
       "0      1               2270\n",
       "2      2               1733\n",
       "7      3               1108\n",
       "8      4                952\n",
       "1      5               1755\n",
       "4      6               1278\n",
       "5      7               1247\n",
       "6      8               1159\n",
       "3      9               1399\n",
       "9     10                916"
      ]
     },
     "execution_count": 90,
     "metadata": {},
     "output_type": "execute_result"
    }
   ],
   "source": [
    "monthly_tickets"
   ]
  },
  {
   "cell_type": "code",
   "execution_count": 304,
   "metadata": {
    "scrolled": false
   },
   "outputs": [
    {
     "data": {
      "text/plain": [
       "<AxesSubplot:xlabel='month', ylabel='tickets_submitted'>"
      ]
     },
     "execution_count": 304,
     "metadata": {},
     "output_type": "execute_result"
    },
    {
     "data": {
      "image/png": "[encoded data removed]",
      "text/plain": [
       "<Figure size 864x576 with 1 Axes>"
      ]
     },
     "metadata": {
      "needs_background": "light"
     },
     "output_type": "display_data"
    }
   ],
   "source": [
    "fig, ax = plt.subplots(figsize=(12, 8))\n",
    "sns.lineplot(monthly_tickets[\"month\"], monthly_tickets[\"tickets_submitted\"], marker=\"o\")"
   ]
  },
  {
   "cell_type": "markdown",
   "metadata": {},
   "source": [
    "The number of issues was decreasing monthly from January until May when an unexpected rise was experienced, then it kept decreasing until september again."
   ]
  },
  {
   "cell_type": "code",
   "execution_count": 29,
   "metadata": {},
   "outputs": [],
   "source": [
    "top5_resolved = subset_df[subset_df[\"Resolved by\"].isin([\"fahad.mubiru\",\"carolyne.kimanthi\",\"nsuuta.nabunje\",\"lilian.maina\",\"Joseph.Achieng\"])]"
   ]
  },
  {
   "cell_type": "code",
   "execution_count": 52,
   "metadata": {
    "scrolled": false
   },
   "outputs": [
    {
     "data": {
      "text/plain": [
       "month  Resolved by      \n",
       "1      Joseph.Achieng       235\n",
       "       carolyne.kimanthi    186\n",
       "       fahad.mubiru         176\n",
       "       lilian.maina         135\n",
       "2      fahad.mubiru         465\n",
       "       carolyne.kimanthi     80\n",
       "       lilian.maina          73\n",
       "       nsuuta.nabunje        72\n",
       "       Joseph.Achieng        60\n",
       "3      fahad.mubiru         129\n",
       "       carolyne.kimanthi     66\n",
       "       nsuuta.nabunje        60\n",
       "       Joseph.Achieng        24\n",
       "       lilian.maina          12\n",
       "4      nsuuta.nabunje       121\n",
       "       fahad.mubiru          38\n",
       "       carolyne.kimanthi     30\n",
       "       lilian.maina          25\n",
       "       Joseph.Achieng        19\n",
       "5      nsuuta.nabunje       140\n",
       "       lilian.maina         139\n",
       "       carolyne.kimanthi     98\n",
       "       fahad.mubiru          84\n",
       "       Joseph.Achieng        34\n",
       "6      carolyne.kimanthi    185\n",
       "       nsuuta.nabunje        66\n",
       "       fahad.mubiru          46\n",
       "       lilian.maina          29\n",
       "       Joseph.Achieng        22\n",
       "7      carolyne.kimanthi    140\n",
       "       fahad.mubiru          37\n",
       "       lilian.maina          25\n",
       "       nsuuta.nabunje        21\n",
       "       Joseph.Achieng        15\n",
       "8      carolyne.kimanthi     30\n",
       "       lilian.maina          11\n",
       "       Joseph.Achieng         7\n",
       "       nsuuta.nabunje         2\n",
       "9      carolyne.kimanthi     75\n",
       "       Joseph.Achieng        12\n",
       "       lilian.maina           8\n",
       "       nsuuta.nabunje         7\n",
       "10     carolyne.kimanthi     43\n",
       "       lilian.maina          20\n",
       "       Joseph.Achieng        10\n",
       "       nsuuta.nabunje         8\n",
       "Name: Resolved by, dtype: int64"
      ]
     },
     "execution_count": 52,
     "metadata": {},
     "output_type": "execute_result"
    }
   ],
   "source": [
    "#Checking the top 5 staff who resolve issues on monthly basis\n",
    "top5_resolved.groupby('month')[\"Resolved by\"].value_counts()"
   ]
  },
  {
   "cell_type": "code",
   "execution_count": 53,
   "metadata": {},
   "outputs": [
    {
     "data": {
      "text/plain": [
       "fahad.mubiru         975\n",
       "carolyne.kimanthi    933\n",
       "nsuuta.nabunje       497\n",
       "lilian.maina         477\n",
       "Joseph.Achieng       438\n",
       "Name: Resolved by, dtype: int64"
      ]
     },
     "execution_count": 53,
     "metadata": {},
     "output_type": "execute_result"
    }
   ],
   "source": [
    "top5_resolved[\"Resolved by\"].value_counts().head()"
   ]
  },
  {
   "cell_type": "markdown",
   "metadata": {},
   "source": [
    "- Majority of the jobs (975 tickets) were resolved by fahad.mubiru within 7 months of his stay, Carolyne.kimanthi also solved 933 tickets in ten months. their experience and skill sets can be used to design the kind of support staff needed to manage several issues."
   ]
  },
  {
   "cell_type": "code",
   "execution_count": 406,
   "metadata": {
    "scrolled": false
   },
   "outputs": [
    {
     "data": {
      "text/plain": [
       "<AxesSubplot:xlabel='month'>"
      ]
     },
     "execution_count": 406,
     "metadata": {},
     "output_type": "execute_result"
    },
    {
     "data": {
      "image/png": "[encoded data removed]",
      "text/plain": [
       "<Figure size 864x576 with 1 Axes>"
      ]
     },
     "metadata": {
      "needs_background": "light"
     },
     "output_type": "display_data"
    }
   ],
   "source": [
    "staff = subset_df.groupby(\"month\")[\"Resolved by\"].nunique()\n",
    "\n",
    "\n",
    "fig, ax = plt.subplots(figsize=(12, 8))\n",
    "staff.plot()"
   ]
  },
  {
   "cell_type": "markdown",
   "metadata": {},
   "source": [
    "- The number of staff resolving issues is determined the number of tickets, as tickets keep decreasing, the number of staff keeps decreasing too.\n",
    "- In may, an unexpected ticket rise was experienced, that resulted to an increase in the number of staff resolving issues. "
   ]
  },
  {
   "cell_type": "code",
   "execution_count": 32,
   "metadata": {},
   "outputs": [
    {
     "data": {
      "text/plain": [
       "Priority 2    13497\n",
       "Priority 4      168\n",
       "Priority 3       89\n",
       "Priority 1       54\n",
       "Name: Issue Priority, dtype: int64"
      ]
     },
     "execution_count": 32,
     "metadata": {},
     "output_type": "execute_result"
    }
   ],
   "source": [
    "#Checking average number of days it takes to resolve a ticket based on Issue Priority\n",
    "subset_df[\"Issue Priority\"].value_counts()"
   ]
  },
  {
   "cell_type": "code",
   "execution_count": 33,
   "metadata": {},
   "outputs": [],
   "source": [
    "avg_priority_time1 = subset_df.loc[subset_df[\"Issue Priority\"] == \"Priority 1\"]"
   ]
  },
  {
   "cell_type": "code",
   "execution_count": 34,
   "metadata": {},
   "outputs": [
    {
     "data": {
      "text/plain": [
       "17.14814814814815"
      ]
     },
     "execution_count": 34,
     "metadata": {},
     "output_type": "execute_result"
    }
   ],
   "source": [
    "np.mean(avg_priority_time1[\"Date Difference\"])"
   ]
  },
  {
   "cell_type": "code",
   "execution_count": 35,
   "metadata": {},
   "outputs": [],
   "source": [
    "avg_priority_time2 = subset_df.loc[subset_df[\"Issue Priority\"] == \"Priority 2\"]"
   ]
  },
  {
   "cell_type": "code",
   "execution_count": 36,
   "metadata": {},
   "outputs": [
    {
     "data": {
      "text/plain": [
       "22.451804104615842"
      ]
     },
     "execution_count": 36,
     "metadata": {},
     "output_type": "execute_result"
    }
   ],
   "source": [
    "np.mean(avg_priority_time2[\"Date Difference\"])"
   ]
  },
  {
   "cell_type": "code",
   "execution_count": 37,
   "metadata": {},
   "outputs": [],
   "source": [
    "avg_priority_time3 = subset_df.loc[subset_df[\"Issue Priority\"] == \"Priority 3\"]"
   ]
  },
  {
   "cell_type": "code",
   "execution_count": 38,
   "metadata": {},
   "outputs": [
    {
     "data": {
      "text/plain": [
       "17.89887640449438"
      ]
     },
     "execution_count": 38,
     "metadata": {},
     "output_type": "execute_result"
    }
   ],
   "source": [
    "np.mean(avg_priority_time3[\"Date Difference\"])"
   ]
  },
  {
   "cell_type": "code",
   "execution_count": 39,
   "metadata": {},
   "outputs": [],
   "source": [
    "avg_priority_time4 = subset_df.loc[subset_df[\"Issue Priority\"] == \"Priority 4\"]"
   ]
  },
  {
   "cell_type": "code",
   "execution_count": 40,
   "metadata": {},
   "outputs": [
    {
     "data": {
      "text/plain": [
       "24.928571428571427"
      ]
     },
     "execution_count": 40,
     "metadata": {},
     "output_type": "execute_result"
    }
   ],
   "source": [
    "np.mean(avg_priority_time4[\"Date Difference\"])"
   ]
  },
  {
   "cell_type": "markdown",
   "metadata": {},
   "source": [
    "- There is really no much significance in the Issue priorities according to the average number of days it takes to solve them, we need to examine what basis are these priority numbers assigned."
   ]
  }
 ],
 "metadata": {
  "kernelspec": {
   "display_name": "Python 3",
   "language": "python",
   "name": "python3"
  },
  "language_info": {
   "codemirror_mode": {
    "name": "ipython",
    "version": 3
   },
   "file_extension": ".py",
   "mimetype": "text/x-python",
   "name": "python",
   "nbconvert_exporter": "python",
   "pygments_lexer": "ipython3",
   "version": "3.8.5"
  }
 },
 "nbformat": 4,
 "nbformat_minor": 4
}
